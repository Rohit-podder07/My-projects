{
  "nbformat": 4,
  "nbformat_minor": 0,
  "metadata": {
    "colab": {
      "name": "Clean Movie Data.ipynb",
      "provenance": [],
      "collapsed_sections": []
    },
    "kernelspec": {
      "name": "python3",
      "display_name": "Python 3"
    },
    "language_info": {
      "name": "python"
    }
  },
  "cells": [
    {
      "cell_type": "code",
      "metadata": {
        "colab": {
          "base_uri": "https://localhost:8080/"
        },
        "id": "-JZG1moiYdKr",
        "outputId": "fda6929b-32aa-41ee-aa33-da52690f2587"
      },
      "source": [
        "from google.colab import drive\n",
        "drive.mount('/content/drive')"
      ],
      "execution_count": 49,
      "outputs": [
        {
          "output_type": "stream",
          "name": "stdout",
          "text": [
            "Drive already mounted at /content/drive; to attempt to forcibly remount, call drive.mount(\"/content/drive\", force_remount=True).\n"
          ]
        }
      ]
    },
    {
      "cell_type": "code",
      "metadata": {
        "id": "6D1Ch7TJZHvn"
      },
      "source": [
        "import pandas as pd\n",
        "movie_dataset=pd.read_csv(\"drive/MyDrive/PROJECTS/Rotten Tomato DataSet/rotten_tomatoes_movies.csv.zip\")"
      ],
      "execution_count": 50,
      "outputs": []
    },
    {
      "cell_type": "code",
      "metadata": {
        "id": "VF3mIAvtZ5R0"
      },
      "source": [
        "movie_dataset.dropna(inplace=True)"
      ],
      "execution_count": 51,
      "outputs": []
    },
    {
      "cell_type": "code",
      "metadata": {
        "id": "clX6FlkYapWz"
      },
      "source": [
        "movie_dataset.drop(['content_rating','streaming_release_date','runtime','production_company','tomatometer_status','tomatometer_count','audience_status','audience_rating','audience_count','tomatometer_top_critics_count','tomatometer_fresh_critics_count','tomatometer_rotten_critics_count'],axis=1,inplace=True)"
      ],
      "execution_count": 54,
      "outputs": []
    },
    {
      "cell_type": "code",
      "metadata": {
        "colab": {
          "base_uri": "https://localhost:8080/",
          "height": 1000
        },
        "id": "qR0-fl3zhytC",
        "outputId": "45b8413b-816c-4652-a028-7daa6caa0cff"
      },
      "source": [
        "movie_dataset.drop_duplicates(subset='movie_title',inplace=True)\n",
        "movie_dataset.reset_index(drop=True,inplace=True)\n",
        "movie_dataset"
      ],
      "execution_count": 66,
      "outputs": [
        {
          "output_type": "execute_result",
          "data": {
            "text/html": [
              "<div>\n",
              "<style scoped>\n",
              "    .dataframe tbody tr th:only-of-type {\n",
              "        vertical-align: middle;\n",
              "    }\n",
              "\n",
              "    .dataframe tbody tr th {\n",
              "        vertical-align: top;\n",
              "    }\n",
              "\n",
              "    .dataframe thead th {\n",
              "        text-align: right;\n",
              "    }\n",
              "</style>\n",
              "<table border=\"1\" class=\"dataframe\">\n",
              "  <thead>\n",
              "    <tr style=\"text-align: right;\">\n",
              "      <th></th>\n",
              "      <th>rotten_tomatoes_link</th>\n",
              "      <th>movie_title</th>\n",
              "      <th>movie_info</th>\n",
              "      <th>critics_consensus</th>\n",
              "      <th>genres</th>\n",
              "      <th>directors</th>\n",
              "      <th>authors</th>\n",
              "      <th>actors</th>\n",
              "      <th>original_release_date</th>\n",
              "      <th>tomatometer_rating</th>\n",
              "    </tr>\n",
              "  </thead>\n",
              "  <tbody>\n",
              "    <tr>\n",
              "      <th>0</th>\n",
              "      <td>m/0814255</td>\n",
              "      <td>Percy Jackson &amp; the Olympians: The Lightning T...</td>\n",
              "      <td>Always trouble-prone, the life of teenager Per...</td>\n",
              "      <td>Though it may seem like just another Harry Pot...</td>\n",
              "      <td>Action &amp; Adventure, Comedy, Drama, Science Fic...</td>\n",
              "      <td>Chris Columbus</td>\n",
              "      <td>Craig Titley, Chris Columbus, Rick Riordan</td>\n",
              "      <td>Logan Lerman, Brandon T. Jackson, Alexandra Da...</td>\n",
              "      <td>2010-02-12</td>\n",
              "      <td>49.0</td>\n",
              "    </tr>\n",
              "    <tr>\n",
              "      <th>1</th>\n",
              "      <td>m/0878835</td>\n",
              "      <td>Please Give</td>\n",
              "      <td>Kate (Catherine Keener) and her husband Alex (...</td>\n",
              "      <td>Nicole Holofcener's newest might seem slight i...</td>\n",
              "      <td>Comedy</td>\n",
              "      <td>Nicole Holofcener</td>\n",
              "      <td>Nicole Holofcener</td>\n",
              "      <td>Catherine Keener, Amanda Peet, Oliver Platt, R...</td>\n",
              "      <td>2010-04-30</td>\n",
              "      <td>87.0</td>\n",
              "    </tr>\n",
              "    <tr>\n",
              "      <th>2</th>\n",
              "      <td>m/10</td>\n",
              "      <td>10</td>\n",
              "      <td>A successful, middle-aged Hollywood songwriter...</td>\n",
              "      <td>Blake Edwards' bawdy comedy may not score a pe...</td>\n",
              "      <td>Comedy, Romance</td>\n",
              "      <td>Blake Edwards</td>\n",
              "      <td>Blake Edwards</td>\n",
              "      <td>Dudley Moore, Bo Derek, Julie Andrews, Robert ...</td>\n",
              "      <td>1979-10-05</td>\n",
              "      <td>67.0</td>\n",
              "    </tr>\n",
              "    <tr>\n",
              "      <th>3</th>\n",
              "      <td>m/1000013-12_angry_men</td>\n",
              "      <td>12 Angry Men (Twelve Angry Men)</td>\n",
              "      <td>Following the closing arguments in a murder tr...</td>\n",
              "      <td>Sidney Lumet's feature debut is a superbly wri...</td>\n",
              "      <td>Classics, Drama</td>\n",
              "      <td>Sidney Lumet</td>\n",
              "      <td>Reginald Rose</td>\n",
              "      <td>Martin Balsam, John Fiedler, Lee J. Cobb, E.G....</td>\n",
              "      <td>1957-04-13</td>\n",
              "      <td>100.0</td>\n",
              "    </tr>\n",
              "    <tr>\n",
              "      <th>4</th>\n",
              "      <td>m/1000079-20000_leagues_under_the_sea</td>\n",
              "      <td>20,000 Leagues Under The Sea</td>\n",
              "      <td>In 1866, Professor Pierre M. Aronnax (Paul Luk...</td>\n",
              "      <td>One of Disney's finest live-action adventures,...</td>\n",
              "      <td>Action &amp; Adventure, Drama, Kids &amp; Family</td>\n",
              "      <td>Richard Fleischer</td>\n",
              "      <td>Earl Felton</td>\n",
              "      <td>James Mason, Kirk Douglas, Paul Lukas, Peter L...</td>\n",
              "      <td>1954-01-01</td>\n",
              "      <td>89.0</td>\n",
              "    </tr>\n",
              "    <tr>\n",
              "      <th>...</th>\n",
              "      <td>...</td>\n",
              "      <td>...</td>\n",
              "      <td>...</td>\n",
              "      <td>...</td>\n",
              "      <td>...</td>\n",
              "      <td>...</td>\n",
              "      <td>...</td>\n",
              "      <td>...</td>\n",
              "      <td>...</td>\n",
              "      <td>...</td>\n",
              "    </tr>\n",
              "    <tr>\n",
              "      <th>7903</th>\n",
              "      <td>m/zoolander</td>\n",
              "      <td>Zoolander</td>\n",
              "      <td>Propelled to the top of the fashion world by a...</td>\n",
              "      <td>A wacky satire on the fashion industry, Zoolan...</td>\n",
              "      <td>Comedy, Special Interest</td>\n",
              "      <td>Ben Stiller</td>\n",
              "      <td>Drake Sather, John Hamburg, Ben Stiller</td>\n",
              "      <td>Ben Stiller, Owen Wilson, Will Ferrell, Christ...</td>\n",
              "      <td>2001-09-28</td>\n",
              "      <td>64.0</td>\n",
              "    </tr>\n",
              "    <tr>\n",
              "      <th>7904</th>\n",
              "      <td>m/zoolander_2</td>\n",
              "      <td>Zoolander 2</td>\n",
              "      <td>Former models Derek Zoolander (Ben Stiller) an...</td>\n",
              "      <td>Zoolander No. 2 has more celebrity cameos than...</td>\n",
              "      <td>Comedy</td>\n",
              "      <td>Ben Stiller</td>\n",
              "      <td>Nicholas Stoller, John Hamburg, Ben Stiller, J...</td>\n",
              "      <td>Ben Stiller, Owen Wilson, Will Ferrell, Penelo...</td>\n",
              "      <td>2016-02-12</td>\n",
              "      <td>22.0</td>\n",
              "    </tr>\n",
              "    <tr>\n",
              "      <th>7905</th>\n",
              "      <td>m/zoom_2006</td>\n",
              "      <td>Zoom</td>\n",
              "      <td>Capt. Zoom, or Jack (Tim Allen), as he is now ...</td>\n",
              "      <td>Lacking the punch and good cheer of The Incred...</td>\n",
              "      <td>Action &amp; Adventure, Comedy, Kids &amp; Family</td>\n",
              "      <td>Peter Hewitt</td>\n",
              "      <td>Adam Rifkin, David Berenbaum</td>\n",
              "      <td>Tim Allen, Courteney Cox, Chevy Chase, Spencer...</td>\n",
              "      <td>2006-08-11</td>\n",
              "      <td>4.0</td>\n",
              "    </tr>\n",
              "    <tr>\n",
              "      <th>7906</th>\n",
              "      <td>m/zootopia</td>\n",
              "      <td>Zootopia</td>\n",
              "      <td>From the largest elephant to the smallest shre...</td>\n",
              "      <td>The brilliantly well-rounded Zootopia offers a...</td>\n",
              "      <td>Action &amp; Adventure, Animation, Comedy</td>\n",
              "      <td>Byron Howard, Rich Moore, Jared Bush</td>\n",
              "      <td>Jared Bush, Phil Johnston</td>\n",
              "      <td>J.K. Simmons, Kristen Bell, Octavia Spencer, A...</td>\n",
              "      <td>2016-03-04</td>\n",
              "      <td>98.0</td>\n",
              "    </tr>\n",
              "    <tr>\n",
              "      <th>7907</th>\n",
              "      <td>m/zulu</td>\n",
              "      <td>Zulu</td>\n",
              "      <td>In 1879, the Zulu nation hands colonial Britis...</td>\n",
              "      <td>Zulu patiently establishes a cast of colorful ...</td>\n",
              "      <td>Classics, Drama</td>\n",
              "      <td>Cy Endfield, Cyril Endfield</td>\n",
              "      <td>Cy Endfield, John Prebble</td>\n",
              "      <td>Stanley Baker, Jack Hawkins, Ulla Jacobsson, J...</td>\n",
              "      <td>1964-06-17</td>\n",
              "      <td>96.0</td>\n",
              "    </tr>\n",
              "  </tbody>\n",
              "</table>\n",
              "<p>7908 rows × 10 columns</p>\n",
              "</div>"
            ],
            "text/plain": [
              "                       rotten_tomatoes_link  ... tomatometer_rating\n",
              "0                                 m/0814255  ...               49.0\n",
              "1                                 m/0878835  ...               87.0\n",
              "2                                      m/10  ...               67.0\n",
              "3                    m/1000013-12_angry_men  ...              100.0\n",
              "4     m/1000079-20000_leagues_under_the_sea  ...               89.0\n",
              "...                                     ...  ...                ...\n",
              "7903                            m/zoolander  ...               64.0\n",
              "7904                          m/zoolander_2  ...               22.0\n",
              "7905                            m/zoom_2006  ...                4.0\n",
              "7906                             m/zootopia  ...               98.0\n",
              "7907                                 m/zulu  ...               96.0\n",
              "\n",
              "[7908 rows x 10 columns]"
            ]
          },
          "metadata": {},
          "execution_count": 66
        }
      ]
    },
    {
      "cell_type": "code",
      "metadata": {
        "id": "QgpVUuduo2YU"
      },
      "source": [
        "#print(movie_dataset['rotten_tomatoes_link'].nunique())\n",
        "#print(movie_dataset['movie_title'].nunique())\n",
        "movie_dataset.to_csv('drive/MyDrive/PROJECTS/project files/Dataset1.csv')"
      ],
      "execution_count": 73,
      "outputs": []
    }
  ]
}